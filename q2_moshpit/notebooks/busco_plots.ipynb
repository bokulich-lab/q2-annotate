{
 "cells": [
  {
   "cell_type": "markdown",
   "metadata": {},
   "source": [
    "# Visualization for Zip Files"
   ]
  },
  {
   "cell_type": "code",
   "execution_count": 1,
   "metadata": {},
   "outputs": [
    {
     "data": {
      "image/png": "[encoded data removed]",
      "text/plain": [
       "<Figure size 1000x600 with 1 Axes>"
      ]
     },
     "metadata": {},
     "output_type": "display_data"
    }
   ],
   "source": [
    "import seaborn as sns\n",
    "%matplotlib inline\n",
    "import matplotlib.pyplot as plt\n",
    "import pandas as pd\n",
    "import altair as alt\n",
    "\n",
    "# Example data (same as in your code)\n",
    "data = {\n",
    "    'Input file': ['bin1.fasta', 'bin2.fasta', 'bin3.fasta', 'bin4.fasta', 'bin5.fasta'],\n",
    "    'Dataset': ['bacteria_odb10', 'bacteria_odb10','bacteria_odb10', 'bacteria_odb10','bacteria_odb10'],\n",
    "    'Complete': [55.6, 50.8, 60, 60, 60],\n",
    "    'Single': [50.0, 46.8, 30, 30, 30],\n",
    "    'Duplicated': [5.6, 4.0, 30, 30, 30],\n",
    "    'Fragmented': [12.1, 12.9, 20, 20, 20],\n",
    "    'Missing': [32.3, 36.3, 20, 20, 20],\n",
    "    'n_markers': [124, 124, 124, 124, 132],\n",
    "    'Scaffold N50': [5383, 5627, 123, 123, 123],\n",
    "    'Contigs N50': [5383, 5627, 123, 123, 123],\n",
    "    'Percent gaps': ['0.000%', '0.000%', '0.000%', '0.000%', '0.000%'],\n",
    "    'Number of scaffolds': [594, 537, 123, 123, 123]\n",
    "}\n",
    "\n",
    "# Create a DataFrame\n",
    "df = pd.DataFrame(data)\n",
    "\n",
    "# Clean column names\n",
    "df.columns = df.columns.str.replace(' ', '_')\n",
    "df.columns = df.columns.str.replace('[^a-zA-Z0-9_]', '', regex=True)\n",
    "df.columns = df.columns.str.lower()\n",
    "df[\"mag_id\"] = df[\"input_file\"].str.split('.', expand=True)[0]\n",
    "\n",
    "# Make new columns for plotting\n",
    "df[\"single_\"] = df[\"single\"]\n",
    "df[\"duplicated_\"] = df[\"single_\"] + df[\"duplicated\"]\n",
    "df[\"fragmented_\"] = df[\"duplicated_\"] + df[\"fragmented\"]\n",
    "df[\"missing_\"] = df[\"fragmented_\"] + df['missing']\n",
    "\n",
    "# Set the style\n",
    "sns.set(style=\"whitegrid\")\n",
    "sns.set_palette(\"colorblind\")\n",
    "\n",
    "# Create a horizontal stacked barplot\n",
    "plt.figure(figsize=(10, 6))\n",
    "sns.barplot(data=df, y='mag_id', x='missing_', color='r', label='Missing')\n",
    "sns.barplot(data=df, y='mag_id', x='fragmented_', color='tab:orange', label='Fragmented')\n",
    "sns.barplot(data=df, y='mag_id', x='duplicated_', color='tab:cyan', label='Duplicated')\n",
    "sns.barplot(data=df, y='mag_id', x='single_', color='tab:blue', label='Single')\n",
    "\n",
    "# Customize the plot\n",
    "plt.xlabel('%BUSCO')\n",
    "plt.ylabel(\"MAG ID's\")\n",
    "plt.legend(loc=\"lower right\")\n",
    "\n",
    "# Show the plot\n",
    "plt.show()\n"
   ]
  },
  {
   "cell_type": "markdown",
   "metadata": {},
   "source": [
    "# Visualization for HTMLs"
   ]
  },
  {
   "cell_type": "markdown",
   "metadata": {},
   "source": [
    "## Toy Data"
   ]
  },
  {
   "cell_type": "code",
   "execution_count": 3,
   "metadata": {},
   "outputs": [],
   "source": [
    "# Make more data from the same\n",
    "n_samples = 3\n",
    "dfs = []\n",
    "\n",
    "for i in range(3):\n",
    "    df_i = df.copy()\n",
    "    df_i[\"sample_id\"] = f\"sample_{i}\"\n",
    "    dfs.append(df_i)\n",
    "\n",
    "df2 = pd.concat(dfs)\n",
    "\n",
    "# Pivot long\n",
    "df2 = pd.melt(df2, id_vars=[\"sample_id\", \"mag_id\"], value_vars=[\"single\", \"duplicated\",\"fragmented\",\"missing\"], value_name=\"BUSCO_percentage\", var_name=\"category\")\n",
    "\n",
    "# Specify order\n",
    "mapping = {\"single\":1, \"duplicated\":2,\"fragmented\":3,\"missing\":4}\n",
    "df2[\"order\"] = df2[\"category\"].map(mapping)"
   ]
  },
  {
   "cell_type": "code",
   "execution_count": 61,
   "metadata": {},
   "outputs": [
    {
     "data": {
      "text/html": [
       "\n",
       "<div id=\"altair-viz-8382c15cfc8740419239707895f68272\"></div>\n",
       "<script type=\"text/javascript\">\n",
       "  var VEGA_DEBUG = (typeof VEGA_DEBUG == \"undefined\") ? {} : VEGA_DEBUG;\n",
       "  (function(spec, embedOpt){\n",
       "    let outputDiv = document.currentScript.previousElementSibling;\n",
       "    if (outputDiv.id !== \"altair-viz-8382c15cfc8740419239707895f68272\") {\n",
       "      outputDiv = document.getElementById(\"altair-viz-8382c15cfc8740419239707895f68272\");\n",
       "    }\n",
       "    const paths = {\n",
       "      \"vega\": \"https://cdn.jsdelivr.net/npm//vega@5?noext\",\n",
       "      \"vega-lib\": \"https://cdn.jsdelivr.net/npm//vega-lib?noext\",\n",
       "      \"vega-lite\": \"https://cdn.jsdelivr.net/npm//vega-lite@4.17.0?noext\",\n",
       "      \"vega-embed\": \"https://cdn.jsdelivr.net/npm//vega-embed@6?noext\",\n",
       "    };\n",
       "\n",
       "    function maybeLoadScript(lib, version) {\n",
       "      var key = `${lib.replace(\"-\", \"\")}_version`;\n",
       "      return (VEGA_DEBUG[key] == version) ?\n",
       "        Promise.resolve(paths[lib]) :\n",
       "        new Promise(function(resolve, reject) {\n",
       "          var s = document.createElement('script');\n",
       "          document.getElementsByTagName(\"head\")[0].appendChild(s);\n",
       "          s.async = true;\n",
       "          s.onload = () => {\n",
       "            VEGA_DEBUG[key] = version;\n",
       "            return resolve(paths[lib]);\n",
       "          };\n",
       "          s.onerror = () => reject(`Error loading script: ${paths[lib]}`);\n",
       "          s.src = paths[lib];\n",
       "        });\n",
       "    }\n",
       "\n",
       "    function showError(err) {\n",
       "      outputDiv.innerHTML = `<div class=\"error\" style=\"color:red;\">${err}</div>`;\n",
       "      throw err;\n",
       "    }\n",
       "\n",
       "    function displayChart(vegaEmbed) {\n",
       "      vegaEmbed(outputDiv, spec, embedOpt)\n",
       "        .catch(err => showError(`Javascript Error: ${err.message}<br>This usually means there's a typo in your chart specification. See the javascript console for the full traceback.`));\n",
       "    }\n",
       "\n",
       "    if(typeof define === \"function\" && define.amd) {\n",
       "      requirejs.config({paths});\n",
       "      require([\"vega-embed\"], displayChart, err => showError(`Error loading script: ${err.message}`));\n",
       "    } else {\n",
       "      maybeLoadScript(\"vega\", \"5\")\n",
       "        .then(() => maybeLoadScript(\"vega-lite\", \"4.17.0\"))\n",
       "        .then(() => maybeLoadScript(\"vega-embed\", \"6\"))\n",
       "        .catch(showError)\n",
       "        .then(() => displayChart(vegaEmbed));\n",
       "    }\n",
       "  })({\"config\": {\"view\": {\"continuousWidth\": 400, \"continuousHeight\": 300}, \"axis\": {\"labelFontSize\": 17, \"titleFontSize\": 20}, \"header\": {\"labelFontSize\": 17, \"titleFontSize\": 20}, \"legend\": {\"labelFontSize\": 17, \"titleFontSize\": 20}}, \"data\": {\"name\": \"data-bf0223c5014caba6183848d6d0d1a5c8\"}, \"mark\": \"bar\", \"encoding\": {\"color\": {\"field\": \"category\", \"legend\": {\"title\": \"BUSCO Category\"}, \"scale\": {\"domain\": [\"single\", \"duplicated\", \"fragmented\", \"missing\"], \"range\": [\"#1E90FF\", \"#87CEFA\", \"#FFA500\", \"#FF7F50\"]}, \"type\": \"nominal\"}, \"order\": {\"field\": \"order\", \"sort\": \"ascending\", \"type\": \"quantitative\"}, \"row\": {\"align\": \"all\", \"field\": \"sample_id\", \"title\": \"Sample ID\", \"type\": \"nominal\"}, \"x\": {\"aggregate\": \"sum\", \"field\": \"BUSCO_percentage\", \"stack\": \"normalize\", \"title\": \"BUSCO fracc.\", \"type\": \"quantitative\"}, \"y\": {\"axis\": {\"title\": \"MAG ID\"}, \"field\": \"mag_id\", \"type\": \"nominal\"}}, \"height\": 200, \"width\": 800, \"$schema\": \"https://vega.github.io/schema/vega-lite/v4.17.0.json\", \"datasets\": {\"data-bf0223c5014caba6183848d6d0d1a5c8\": [{\"sample_id\": \"sample_0\", \"mag_id\": \"bin1\", \"category\": \"single\", \"BUSCO_percentage\": 50.0, \"order\": 1}, {\"sample_id\": \"sample_0\", \"mag_id\": \"bin2\", \"category\": \"single\", \"BUSCO_percentage\": 46.8, \"order\": 1}, {\"sample_id\": \"sample_0\", \"mag_id\": \"bin3\", \"category\": \"single\", \"BUSCO_percentage\": 30.0, \"order\": 1}, {\"sample_id\": \"sample_0\", \"mag_id\": \"bin4\", \"category\": \"single\", \"BUSCO_percentage\": 30.0, \"order\": 1}, {\"sample_id\": \"sample_0\", \"mag_id\": \"bin5\", \"category\": \"single\", \"BUSCO_percentage\": 30.0, \"order\": 1}, {\"sample_id\": \"sample_1\", \"mag_id\": \"bin1\", \"category\": \"single\", \"BUSCO_percentage\": 50.0, \"order\": 1}, {\"sample_id\": \"sample_1\", \"mag_id\": \"bin2\", \"category\": \"single\", \"BUSCO_percentage\": 46.8, \"order\": 1}, {\"sample_id\": \"sample_1\", \"mag_id\": \"bin3\", \"category\": \"single\", \"BUSCO_percentage\": 30.0, \"order\": 1}, {\"sample_id\": \"sample_1\", \"mag_id\": \"bin4\", \"category\": \"single\", \"BUSCO_percentage\": 30.0, \"order\": 1}, {\"sample_id\": \"sample_1\", \"mag_id\": \"bin5\", \"category\": \"single\", \"BUSCO_percentage\": 30.0, \"order\": 1}, {\"sample_id\": \"sample_2\", \"mag_id\": \"bin1\", \"category\": \"single\", \"BUSCO_percentage\": 50.0, \"order\": 1}, {\"sample_id\": \"sample_2\", \"mag_id\": \"bin2\", \"category\": \"single\", \"BUSCO_percentage\": 46.8, \"order\": 1}, {\"sample_id\": \"sample_2\", \"mag_id\": \"bin3\", \"category\": \"single\", \"BUSCO_percentage\": 30.0, \"order\": 1}, {\"sample_id\": \"sample_2\", \"mag_id\": \"bin4\", \"category\": \"single\", \"BUSCO_percentage\": 30.0, \"order\": 1}, {\"sample_id\": \"sample_2\", \"mag_id\": \"bin5\", \"category\": \"single\", \"BUSCO_percentage\": 30.0, \"order\": 1}, {\"sample_id\": \"sample_0\", \"mag_id\": \"bin1\", \"category\": \"duplicated\", \"BUSCO_percentage\": 5.6, \"order\": 2}, {\"sample_id\": \"sample_0\", \"mag_id\": \"bin2\", \"category\": \"duplicated\", \"BUSCO_percentage\": 4.0, \"order\": 2}, {\"sample_id\": \"sample_0\", \"mag_id\": \"bin3\", \"category\": \"duplicated\", \"BUSCO_percentage\": 30.0, \"order\": 2}, {\"sample_id\": \"sample_0\", \"mag_id\": \"bin4\", \"category\": \"duplicated\", \"BUSCO_percentage\": 30.0, \"order\": 2}, {\"sample_id\": \"sample_0\", \"mag_id\": \"bin5\", \"category\": \"duplicated\", \"BUSCO_percentage\": 30.0, \"order\": 2}, {\"sample_id\": \"sample_1\", \"mag_id\": \"bin1\", \"category\": \"duplicated\", \"BUSCO_percentage\": 5.6, \"order\": 2}, {\"sample_id\": \"sample_1\", \"mag_id\": \"bin2\", \"category\": \"duplicated\", \"BUSCO_percentage\": 4.0, \"order\": 2}, {\"sample_id\": \"sample_1\", \"mag_id\": \"bin3\", \"category\": \"duplicated\", \"BUSCO_percentage\": 30.0, \"order\": 2}, {\"sample_id\": \"sample_1\", \"mag_id\": \"bin4\", \"category\": \"duplicated\", \"BUSCO_percentage\": 30.0, \"order\": 2}, {\"sample_id\": \"sample_1\", \"mag_id\": \"bin5\", \"category\": \"duplicated\", \"BUSCO_percentage\": 30.0, \"order\": 2}, {\"sample_id\": \"sample_2\", \"mag_id\": \"bin1\", \"category\": \"duplicated\", \"BUSCO_percentage\": 5.6, \"order\": 2}, {\"sample_id\": \"sample_2\", \"mag_id\": \"bin2\", \"category\": \"duplicated\", \"BUSCO_percentage\": 4.0, \"order\": 2}, {\"sample_id\": \"sample_2\", \"mag_id\": \"bin3\", \"category\": \"duplicated\", \"BUSCO_percentage\": 30.0, \"order\": 2}, {\"sample_id\": \"sample_2\", \"mag_id\": \"bin4\", \"category\": \"duplicated\", \"BUSCO_percentage\": 30.0, \"order\": 2}, {\"sample_id\": \"sample_2\", \"mag_id\": \"bin5\", \"category\": \"duplicated\", \"BUSCO_percentage\": 30.0, \"order\": 2}, {\"sample_id\": \"sample_0\", \"mag_id\": \"bin1\", \"category\": \"fragmented\", \"BUSCO_percentage\": 12.1, \"order\": 3}, {\"sample_id\": \"sample_0\", \"mag_id\": \"bin2\", \"category\": \"fragmented\", \"BUSCO_percentage\": 12.9, \"order\": 3}, {\"sample_id\": \"sample_0\", \"mag_id\": \"bin3\", \"category\": \"fragmented\", \"BUSCO_percentage\": 20.0, \"order\": 3}, {\"sample_id\": \"sample_0\", \"mag_id\": \"bin4\", \"category\": \"fragmented\", \"BUSCO_percentage\": 20.0, \"order\": 3}, {\"sample_id\": \"sample_0\", \"mag_id\": \"bin5\", \"category\": \"fragmented\", \"BUSCO_percentage\": 20.0, \"order\": 3}, {\"sample_id\": \"sample_1\", \"mag_id\": \"bin1\", \"category\": \"fragmented\", \"BUSCO_percentage\": 12.1, \"order\": 3}, {\"sample_id\": \"sample_1\", \"mag_id\": \"bin2\", \"category\": \"fragmented\", \"BUSCO_percentage\": 12.9, \"order\": 3}, {\"sample_id\": \"sample_1\", \"mag_id\": \"bin3\", \"category\": \"fragmented\", \"BUSCO_percentage\": 20.0, \"order\": 3}, {\"sample_id\": \"sample_1\", \"mag_id\": \"bin4\", \"category\": \"fragmented\", \"BUSCO_percentage\": 20.0, \"order\": 3}, {\"sample_id\": \"sample_1\", \"mag_id\": \"bin5\", \"category\": \"fragmented\", \"BUSCO_percentage\": 20.0, \"order\": 3}, {\"sample_id\": \"sample_2\", \"mag_id\": \"bin1\", \"category\": \"fragmented\", \"BUSCO_percentage\": 12.1, \"order\": 3}, {\"sample_id\": \"sample_2\", \"mag_id\": \"bin2\", \"category\": \"fragmented\", \"BUSCO_percentage\": 12.9, \"order\": 3}, {\"sample_id\": \"sample_2\", \"mag_id\": \"bin3\", \"category\": \"fragmented\", \"BUSCO_percentage\": 20.0, \"order\": 3}, {\"sample_id\": \"sample_2\", \"mag_id\": \"bin4\", \"category\": \"fragmented\", \"BUSCO_percentage\": 20.0, \"order\": 3}, {\"sample_id\": \"sample_2\", \"mag_id\": \"bin5\", \"category\": \"fragmented\", \"BUSCO_percentage\": 20.0, \"order\": 3}, {\"sample_id\": \"sample_0\", \"mag_id\": \"bin1\", \"category\": \"missing\", \"BUSCO_percentage\": 32.3, \"order\": 4}, {\"sample_id\": \"sample_0\", \"mag_id\": \"bin2\", \"category\": \"missing\", \"BUSCO_percentage\": 36.3, \"order\": 4}, {\"sample_id\": \"sample_0\", \"mag_id\": \"bin3\", \"category\": \"missing\", \"BUSCO_percentage\": 20.0, \"order\": 4}, {\"sample_id\": \"sample_0\", \"mag_id\": \"bin4\", \"category\": \"missing\", \"BUSCO_percentage\": 20.0, \"order\": 4}, {\"sample_id\": \"sample_0\", \"mag_id\": \"bin5\", \"category\": \"missing\", \"BUSCO_percentage\": 20.0, \"order\": 4}, {\"sample_id\": \"sample_1\", \"mag_id\": \"bin1\", \"category\": \"missing\", \"BUSCO_percentage\": 32.3, \"order\": 4}, {\"sample_id\": \"sample_1\", \"mag_id\": \"bin2\", \"category\": \"missing\", \"BUSCO_percentage\": 36.3, \"order\": 4}, {\"sample_id\": \"sample_1\", \"mag_id\": \"bin3\", \"category\": \"missing\", \"BUSCO_percentage\": 20.0, \"order\": 4}, {\"sample_id\": \"sample_1\", \"mag_id\": \"bin4\", \"category\": \"missing\", \"BUSCO_percentage\": 20.0, \"order\": 4}, {\"sample_id\": \"sample_1\", \"mag_id\": \"bin5\", \"category\": \"missing\", \"BUSCO_percentage\": 20.0, \"order\": 4}, {\"sample_id\": \"sample_2\", \"mag_id\": \"bin1\", \"category\": \"missing\", \"BUSCO_percentage\": 32.3, \"order\": 4}, {\"sample_id\": \"sample_2\", \"mag_id\": \"bin2\", \"category\": \"missing\", \"BUSCO_percentage\": 36.3, \"order\": 4}, {\"sample_id\": \"sample_2\", \"mag_id\": \"bin3\", \"category\": \"missing\", \"BUSCO_percentage\": 20.0, \"order\": 4}, {\"sample_id\": \"sample_2\", \"mag_id\": \"bin4\", \"category\": \"missing\", \"BUSCO_percentage\": 20.0, \"order\": 4}, {\"sample_id\": \"sample_2\", \"mag_id\": \"bin5\", \"category\": \"missing\", \"BUSCO_percentage\": 20.0, \"order\": 4}]}}, {\"mode\": \"vega-lite\"});\n",
       "</script>"
      ],
      "text/plain": [
       "alt.Chart(...)"
      ]
     },
     "execution_count": 61,
     "metadata": {},
     "output_type": "execute_result"
    }
   ],
   "source": [
    "# Plot\n",
    "domain = ['single', 'duplicated', 'fragmented', 'missing']\n",
    "range_ = ['#1E90FF', '#87CEFA', '#FFA500', '#FF7F50']\n",
    "\n",
    "output_plot = alt.Chart(df2).mark_bar().encode(\n",
    "    x=alt.X('sum(BUSCO_percentage)', stack=\"normalize\", title=\"BUSCO fracc.\"),\n",
    "    y=alt.Y('mag_id', axis=alt.Axis(title='MAG ID')),\n",
    "    #color=alt.Color('category').scale(domain=domain, range=range_),\n",
    "    color=alt.Color('category', scale=alt.Scale(domain=domain, range=range_), legend=alt.Legend(title=\"BUSCO Category\")),\n",
    "    order=alt.Order(\n",
    "      # Sort the segments of the bars by this field\n",
    "      'order',\n",
    "      sort='ascending'),\n",
    "    row=alt.Row(\"sample_id\", title='Sample ID', align=\"all\"))\n",
    "\n",
    "output_plot = output_plot.configure_axis(labelFontSize=17, titleFontSize=20)\n",
    "output_plot = output_plot.configure_legend(labelFontSize=17, titleFontSize=20)\n",
    "output_plot = output_plot.configure_header(labelFontSize=17, titleFontSize=20)\n",
    "output_plot = output_plot.properties(width=800, height=200)\n",
    "output_plot "
   ]
  },
  {
   "cell_type": "markdown",
   "metadata": {},
   "source": [
    "## Real Data"
   ]
  },
  {
   "cell_type": "code",
   "execution_count": null,
   "metadata": {},
   "outputs": [],
   "source": [
    "# Read in data\n",
    "df = pd.read_csv(\"/Users/santiago/Downloads/all_batch_summeries (2).csv\", usecols=range(1,14))\n",
    "\n",
    "# Clean column names\n",
    "df.columns = df.columns.str.replace(' ', '_')\n",
    "df.columns = df.columns.str.replace('[^a-zA-Z0-9_]', '', regex=True)\n",
    "df.columns = df.columns.str.lower()\n",
    "\n",
    "# Make field for mag id\n",
    "df[\"mag_id\"] = df[\"input_file\"].str.split('.', expand=True)[0]\n",
    "\n",
    "# Pivot long\n",
    "df2 = pd.melt(df, id_vars=[\"sample_id\", \"mag_id\", \"dataset\", \"n_markers\"], value_vars=[\"single\", \"duplicated\",\"fragmented\",\"missing\"], value_name=\"BUSCO_percentage\", var_name=\"category\")\n",
    "\n",
    "# Specify order\n",
    "mapping = {\"single\":1, \"duplicated\":2,\"fragmented\":3,\"missing\":4}\n",
    "df2[\"order\"] = df2[\"category\"].map(mapping)\n",
    "df2[\"fracc_markers\"] = \"~\" + round(df2[\"BUSCO_percentage\"] * df2[\"n_markers\"] / 100).map(int).map(str) + \"/124\"\n",
    "df2"
   ]
  },
  {
   "cell_type": "code",
   "execution_count": 126,
   "metadata": {},
   "outputs": [
    {
     "data": {
      "text/html": [
       "\n",
       "<div id=\"altair-viz-b11951c38ff24e22a50a7917eea17785\"></div>\n",
       "<script type=\"text/javascript\">\n",
       "  var VEGA_DEBUG = (typeof VEGA_DEBUG == \"undefined\") ? {} : VEGA_DEBUG;\n",
       "  (function(spec, embedOpt){\n",
       "    let outputDiv = document.currentScript.previousElementSibling;\n",
       "    if (outputDiv.id !== \"altair-viz-b11951c38ff24e22a50a7917eea17785\") {\n",
       "      outputDiv = document.getElementById(\"altair-viz-b11951c38ff24e22a50a7917eea17785\");\n",
       "    }\n",
       "    const paths = {\n",
       "      \"vega\": \"https://cdn.jsdelivr.net/npm//vega@5?noext\",\n",
       "      \"vega-lib\": \"https://cdn.jsdelivr.net/npm//vega-lib?noext\",\n",
       "      \"vega-lite\": \"https://cdn.jsdelivr.net/npm//vega-lite@4.17.0?noext\",\n",
       "      \"vega-embed\": \"https://cdn.jsdelivr.net/npm//vega-embed@6?noext\",\n",
       "    };\n",
       "\n",
       "    function maybeLoadScript(lib, version) {\n",
       "      var key = `${lib.replace(\"-\", \"\")}_version`;\n",
       "      return (VEGA_DEBUG[key] == version) ?\n",
       "        Promise.resolve(paths[lib]) :\n",
       "        new Promise(function(resolve, reject) {\n",
       "          var s = document.createElement('script');\n",
       "          document.getElementsByTagName(\"head\")[0].appendChild(s);\n",
       "          s.async = true;\n",
       "          s.onload = () => {\n",
       "            VEGA_DEBUG[key] = version;\n",
       "            return resolve(paths[lib]);\n",
       "          };\n",
       "          s.onerror = () => reject(`Error loading script: ${paths[lib]}`);\n",
       "          s.src = paths[lib];\n",
       "        });\n",
       "    }\n",
       "\n",
       "    function showError(err) {\n",
       "      outputDiv.innerHTML = `<div class=\"error\" style=\"color:red;\">${err}</div>`;\n",
       "      throw err;\n",
       "    }\n",
       "\n",
       "    function displayChart(vegaEmbed) {\n",
       "      vegaEmbed(outputDiv, spec, embedOpt)\n",
       "        .catch(err => showError(`Javascript Error: ${err.message}<br>This usually means there's a typo in your chart specification. See the javascript console for the full traceback.`));\n",
       "    }\n",
       "\n",
       "    if(typeof define === \"function\" && define.amd) {\n",
       "      requirejs.config({paths});\n",
       "      require([\"vega-embed\"], displayChart, err => showError(`Error loading script: ${err.message}`));\n",
       "    } else {\n",
       "      maybeLoadScript(\"vega\", \"5\")\n",
       "        .then(() => maybeLoadScript(\"vega-lite\", \"4.17.0\"))\n",
       "        .then(() => maybeLoadScript(\"vega-embed\", \"6\"))\n",
       "        .catch(showError)\n",
       "        .then(() => displayChart(vegaEmbed));\n",
       "    }\n",
       "  })({\"config\": {\"view\": {\"continuousWidth\": 400, \"continuousHeight\": 300}, \"axis\": {\"labelFontSize\": 17, \"titleFontSize\": 20}, \"header\": {\"labelFontSize\": 17, \"titleFontSize\": 20}, \"legend\": {\"labelFontSize\": 17, \"titleFontSize\": 20}}, \"data\": {\"name\": \"data-86d6ccb2de4aae10868d6a86589fa41a\"}, \"facet\": {\"row\": {\"field\": \"sample_id\", \"title\": \"Sample ID\", \"type\": \"nominal\"}}, \"spec\": {\"mark\": \"bar\", \"encoding\": {\"color\": {\"field\": \"category\", \"legend\": {\"title\": \"BUSCO Category\"}, \"scale\": {\"domain\": [\"single\", \"duplicated\", \"fragmented\", \"missing\"], \"range\": [\"#1E90FF\", \"#87CEFA\", \"#FFA500\", \"#FF7F50\"]}, \"type\": \"nominal\"}, \"opacity\": {\"value\": 0.85}, \"order\": {\"field\": \"order\", \"sort\": \"ascending\", \"type\": \"quantitative\"}, \"tooltip\": [{\"field\": \"sample_id\", \"title\": \"Sample ID\", \"type\": \"nominal\"}, {\"field\": \"mag_id\", \"title\": \"MAG ID\", \"type\": \"nominal\"}, {\"field\": \"dataset\", \"title\": \"Lineage dataset\", \"type\": \"nominal\"}, {\"field\": \"fracc_markers\", \"title\": \"Aprox. number of markers in this category\", \"type\": \"nominal\"}, {\"field\": \"BUSCO_percentage\", \"title\": \"Percentage [%]\", \"type\": \"quantitative\"}], \"x\": {\"aggregate\": \"sum\", \"field\": \"BUSCO_percentage\", \"stack\": \"normalize\", \"title\": \"BUSCO fracc.\", \"type\": \"quantitative\"}, \"y\": {\"axis\": {\"title\": \"MAG ID\"}, \"field\": \"mag_id\", \"type\": \"nominal\"}}, \"height\": 162, \"width\": 600}, \"resolve\": {\"scale\": {\"y\": \"independent\"}}, \"$schema\": \"https://vega.github.io/schema/vega-lite/v4.17.0.json\", \"datasets\": {\"data-86d6ccb2de4aae10868d6a86589fa41a\": [{\"sample_id\": \"sample1\", \"mag_id\": \"67392c6c-9f45-4c84-85f5-ae0bfc668892\", \"dataset\": \"bacteria_odb10\", \"n_markers\": 124, \"category\": \"single\", \"BUSCO_percentage\": 96.8, \"order\": 1, \"fracc_markers\": \"~120/124\"}, {\"sample_id\": \"sample1\", \"mag_id\": \"67123d05-b5ae-4a53-873b-727952881899\", \"dataset\": \"bacteria_odb10\", \"n_markers\": 124, \"category\": \"single\", \"BUSCO_percentage\": 96.0, \"order\": 1, \"fracc_markers\": \"~119/124\"}, {\"sample_id\": \"sample1\", \"mag_id\": \"311112c9-7f8b-460c-9cad-3864af3148c2\", \"dataset\": \"bacteria_odb10\", \"n_markers\": 124, \"category\": \"single\", \"BUSCO_percentage\": 96.0, \"order\": 1, \"fracc_markers\": \"~119/124\"}, {\"sample_id\": \"sample2\", \"mag_id\": \"fa0a025e-3fac-4e6b-8736-69a38c33b3f5\", \"dataset\": \"bacteria_odb10\", \"n_markers\": 124, \"category\": \"single\", \"BUSCO_percentage\": 96.0, \"order\": 1, \"fracc_markers\": \"~119/124\"}, {\"sample_id\": \"sample2\", \"mag_id\": \"12f0542c-8375-4ec2-b25a-515962533a7a\", \"dataset\": \"bacteria_odb10\", \"n_markers\": 124, \"category\": \"single\", \"BUSCO_percentage\": 95.2, \"order\": 1, \"fracc_markers\": \"~118/124\"}, {\"sample_id\": \"sample2\", \"mag_id\": \"971335f0-18b9-422e-81a7-5862c49b1e3d\", \"dataset\": \"bacteria_odb10\", \"n_markers\": 124, \"category\": \"single\", \"BUSCO_percentage\": 96.0, \"order\": 1, \"fracc_markers\": \"~119/124\"}, {\"sample_id\": \"sample3\", \"mag_id\": \"040d5cd4-4230-4533-a0a9-f03e3263c338\", \"dataset\": \"bacteria_odb10\", \"n_markers\": 124, \"category\": \"single\", \"BUSCO_percentage\": 96.0, \"order\": 1, \"fracc_markers\": \"~119/124\"}, {\"sample_id\": \"sample3\", \"mag_id\": \"e08a46f3-6fbe-4415-b10f-f11d0d187d17\", \"dataset\": \"bacteria_odb10\", \"n_markers\": 124, \"category\": \"single\", \"BUSCO_percentage\": 96.0, \"order\": 1, \"fracc_markers\": \"~119/124\"}, {\"sample_id\": \"sample3\", \"mag_id\": \"e24225c7-6455-49b1-ad8d-86f95dfbfa2e\", \"dataset\": \"bacteria_odb10\", \"n_markers\": 124, \"category\": \"single\", \"BUSCO_percentage\": 96.8, \"order\": 1, \"fracc_markers\": \"~120/124\"}, {\"sample_id\": \"sample1\", \"mag_id\": \"67392c6c-9f45-4c84-85f5-ae0bfc668892\", \"dataset\": \"bacteria_odb10\", \"n_markers\": 124, \"category\": \"duplicated\", \"BUSCO_percentage\": 0.8, \"order\": 2, \"fracc_markers\": \"~1/124\"}, {\"sample_id\": \"sample1\", \"mag_id\": \"67123d05-b5ae-4a53-873b-727952881899\", \"dataset\": \"bacteria_odb10\", \"n_markers\": 124, \"category\": \"duplicated\", \"BUSCO_percentage\": 1.6, \"order\": 2, \"fracc_markers\": \"~2/124\"}, {\"sample_id\": \"sample1\", \"mag_id\": \"311112c9-7f8b-460c-9cad-3864af3148c2\", \"dataset\": \"bacteria_odb10\", \"n_markers\": 124, \"category\": \"duplicated\", \"BUSCO_percentage\": 1.6, \"order\": 2, \"fracc_markers\": \"~2/124\"}, {\"sample_id\": \"sample2\", \"mag_id\": \"fa0a025e-3fac-4e6b-8736-69a38c33b3f5\", \"dataset\": \"bacteria_odb10\", \"n_markers\": 124, \"category\": \"duplicated\", \"BUSCO_percentage\": 1.6, \"order\": 2, \"fracc_markers\": \"~2/124\"}, {\"sample_id\": \"sample2\", \"mag_id\": \"12f0542c-8375-4ec2-b25a-515962533a7a\", \"dataset\": \"bacteria_odb10\", \"n_markers\": 124, \"category\": \"duplicated\", \"BUSCO_percentage\": 0.8, \"order\": 2, \"fracc_markers\": \"~1/124\"}, {\"sample_id\": \"sample2\", \"mag_id\": \"971335f0-18b9-422e-81a7-5862c49b1e3d\", \"dataset\": \"bacteria_odb10\", \"n_markers\": 124, \"category\": \"duplicated\", \"BUSCO_percentage\": 1.6, \"order\": 2, \"fracc_markers\": \"~2/124\"}, {\"sample_id\": \"sample3\", \"mag_id\": \"040d5cd4-4230-4533-a0a9-f03e3263c338\", \"dataset\": \"bacteria_odb10\", \"n_markers\": 124, \"category\": \"duplicated\", \"BUSCO_percentage\": 1.6, \"order\": 2, \"fracc_markers\": \"~2/124\"}, {\"sample_id\": \"sample3\", \"mag_id\": \"e08a46f3-6fbe-4415-b10f-f11d0d187d17\", \"dataset\": \"bacteria_odb10\", \"n_markers\": 124, \"category\": \"duplicated\", \"BUSCO_percentage\": 1.6, \"order\": 2, \"fracc_markers\": \"~2/124\"}, {\"sample_id\": \"sample3\", \"mag_id\": \"e24225c7-6455-49b1-ad8d-86f95dfbfa2e\", \"dataset\": \"bacteria_odb10\", \"n_markers\": 124, \"category\": \"duplicated\", \"BUSCO_percentage\": 0.8, \"order\": 2, \"fracc_markers\": \"~1/124\"}, {\"sample_id\": \"sample1\", \"mag_id\": \"67392c6c-9f45-4c84-85f5-ae0bfc668892\", \"dataset\": \"bacteria_odb10\", \"n_markers\": 124, \"category\": \"fragmented\", \"BUSCO_percentage\": 0.8, \"order\": 3, \"fracc_markers\": \"~1/124\"}, {\"sample_id\": \"sample1\", \"mag_id\": \"67123d05-b5ae-4a53-873b-727952881899\", \"dataset\": \"bacteria_odb10\", \"n_markers\": 124, \"category\": \"fragmented\", \"BUSCO_percentage\": 1.6, \"order\": 3, \"fracc_markers\": \"~2/124\"}, {\"sample_id\": \"sample1\", \"mag_id\": \"311112c9-7f8b-460c-9cad-3864af3148c2\", \"dataset\": \"bacteria_odb10\", \"n_markers\": 124, \"category\": \"fragmented\", \"BUSCO_percentage\": 1.6, \"order\": 3, \"fracc_markers\": \"~2/124\"}, {\"sample_id\": \"sample2\", \"mag_id\": \"fa0a025e-3fac-4e6b-8736-69a38c33b3f5\", \"dataset\": \"bacteria_odb10\", \"n_markers\": 124, \"category\": \"fragmented\", \"BUSCO_percentage\": 1.6, \"order\": 3, \"fracc_markers\": \"~2/124\"}, {\"sample_id\": \"sample2\", \"mag_id\": \"12f0542c-8375-4ec2-b25a-515962533a7a\", \"dataset\": \"bacteria_odb10\", \"n_markers\": 124, \"category\": \"fragmented\", \"BUSCO_percentage\": 0.8, \"order\": 3, \"fracc_markers\": \"~1/124\"}, {\"sample_id\": \"sample2\", \"mag_id\": \"971335f0-18b9-422e-81a7-5862c49b1e3d\", \"dataset\": \"bacteria_odb10\", \"n_markers\": 124, \"category\": \"fragmented\", \"BUSCO_percentage\": 1.6, \"order\": 3, \"fracc_markers\": \"~2/124\"}, {\"sample_id\": \"sample3\", \"mag_id\": \"040d5cd4-4230-4533-a0a9-f03e3263c338\", \"dataset\": \"bacteria_odb10\", \"n_markers\": 124, \"category\": \"fragmented\", \"BUSCO_percentage\": 1.6, \"order\": 3, \"fracc_markers\": \"~2/124\"}, {\"sample_id\": \"sample3\", \"mag_id\": \"e08a46f3-6fbe-4415-b10f-f11d0d187d17\", \"dataset\": \"bacteria_odb10\", \"n_markers\": 124, \"category\": \"fragmented\", \"BUSCO_percentage\": 1.6, \"order\": 3, \"fracc_markers\": \"~2/124\"}, {\"sample_id\": \"sample3\", \"mag_id\": \"e24225c7-6455-49b1-ad8d-86f95dfbfa2e\", \"dataset\": \"bacteria_odb10\", \"n_markers\": 124, \"category\": \"fragmented\", \"BUSCO_percentage\": 0.8, \"order\": 3, \"fracc_markers\": \"~1/124\"}, {\"sample_id\": \"sample1\", \"mag_id\": \"67392c6c-9f45-4c84-85f5-ae0bfc668892\", \"dataset\": \"bacteria_odb10\", \"n_markers\": 124, \"category\": \"missing\", \"BUSCO_percentage\": 1.6, \"order\": 4, \"fracc_markers\": \"~2/124\"}, {\"sample_id\": \"sample1\", \"mag_id\": \"67123d05-b5ae-4a53-873b-727952881899\", \"dataset\": \"bacteria_odb10\", \"n_markers\": 124, \"category\": \"missing\", \"BUSCO_percentage\": 0.8, \"order\": 4, \"fracc_markers\": \"~1/124\"}, {\"sample_id\": \"sample1\", \"mag_id\": \"311112c9-7f8b-460c-9cad-3864af3148c2\", \"dataset\": \"bacteria_odb10\", \"n_markers\": 124, \"category\": \"missing\", \"BUSCO_percentage\": 0.8, \"order\": 4, \"fracc_markers\": \"~1/124\"}, {\"sample_id\": \"sample2\", \"mag_id\": \"fa0a025e-3fac-4e6b-8736-69a38c33b3f5\", \"dataset\": \"bacteria_odb10\", \"n_markers\": 124, \"category\": \"missing\", \"BUSCO_percentage\": 0.8, \"order\": 4, \"fracc_markers\": \"~1/124\"}, {\"sample_id\": \"sample2\", \"mag_id\": \"12f0542c-8375-4ec2-b25a-515962533a7a\", \"dataset\": \"bacteria_odb10\", \"n_markers\": 124, \"category\": \"missing\", \"BUSCO_percentage\": 3.2, \"order\": 4, \"fracc_markers\": \"~4/124\"}, {\"sample_id\": \"sample2\", \"mag_id\": \"971335f0-18b9-422e-81a7-5862c49b1e3d\", \"dataset\": \"bacteria_odb10\", \"n_markers\": 124, \"category\": \"missing\", \"BUSCO_percentage\": 0.8, \"order\": 4, \"fracc_markers\": \"~1/124\"}, {\"sample_id\": \"sample3\", \"mag_id\": \"040d5cd4-4230-4533-a0a9-f03e3263c338\", \"dataset\": \"bacteria_odb10\", \"n_markers\": 124, \"category\": \"missing\", \"BUSCO_percentage\": 0.8, \"order\": 4, \"fracc_markers\": \"~1/124\"}, {\"sample_id\": \"sample3\", \"mag_id\": \"e08a46f3-6fbe-4415-b10f-f11d0d187d17\", \"dataset\": \"bacteria_odb10\", \"n_markers\": 124, \"category\": \"missing\", \"BUSCO_percentage\": 0.8, \"order\": 4, \"fracc_markers\": \"~1/124\"}, {\"sample_id\": \"sample3\", \"mag_id\": \"e24225c7-6455-49b1-ad8d-86f95dfbfa2e\", \"dataset\": \"bacteria_odb10\", \"n_markers\": 124, \"category\": \"missing\", \"BUSCO_percentage\": 1.6, \"order\": 4, \"fracc_markers\": \"~2/124\"}]}}, {\"mode\": \"vega-lite\"});\n",
       "</script>"
      ],
      "text/plain": [
       "alt.FacetChart(...)"
      ]
     },
     "execution_count": 126,
     "metadata": {},
     "output_type": "execute_result"
    }
   ],
   "source": [
    "# Plot\n",
    "domain = ['single', 'duplicated', 'fragmented', 'missing']\n",
    "range_ = ['#1E90FF', '#87CEFA', '#FFA500', '#FF7F50']\n",
    "\n",
    "output_plot = alt.Chart(df2).mark_bar().encode(\n",
    "    x=alt.X('sum(BUSCO_percentage)', stack=\"normalize\", title=\"BUSCO fracc.\"),\n",
    "    y=alt.Y('mag_id', axis=alt.Axis(title='MAG ID')),\n",
    "    color=alt.Color('category', scale=alt.Scale(domain=domain, range=range_), legend=alt.Legend(title=\"BUSCO Category\")),\n",
    "    order=alt.Order('order', sort='ascending'),\n",
    "    tooltip=[alt.Tooltip(\"sample_id\", title=\"Sample ID\"),\n",
    "             alt.Tooltip(\"mag_id\", title=\"MAG ID\"),\n",
    "             alt.Tooltip(\"dataset\", title=\"Lineage dataset\"),\n",
    "             alt.Tooltip(\"fracc_markers\", title=\"Aprox. number of markers in this category\"),\n",
    "             alt.Tooltip(\"BUSCO_percentage\", title=\"Percentage [%]\"),],\n",
    "    opacity=alt.value(0.85)).properties(width=600, height=18*9).facet(row=alt.Row(\"sample_id\", title='Sample ID')).resolve_scale(y=\"independent\")\n",
    "\n",
    "output_plot = output_plot.configure_axis(labelFontSize=17, titleFontSize=20)\n",
    "output_plot = output_plot.configure_legend(labelFontSize=17, titleFontSize=20)\n",
    "output_plot = output_plot.configure_header(labelFontSize=17, titleFontSize=20)\n",
    "output_plot "
   ]
  },
  {
   "cell_type": "markdown",
   "metadata": {},
   "source": []
  }
 ],
 "metadata": {
  "kernelspec": {
   "display_name": "q2-shotgun",
   "language": "python",
   "name": "python3"
  },
  "language_info": {
   "codemirror_mode": {
    "name": "ipython",
    "version": 3
   },
   "file_extension": ".py",
   "mimetype": "text/x-python",
   "name": "python",
   "nbconvert_exporter": "python",
   "pygments_lexer": "ipython3",
   "version": "3.8.17"
  },
  "orig_nbformat": 4
 },
 "nbformat": 4,
 "nbformat_minor": 2
}
